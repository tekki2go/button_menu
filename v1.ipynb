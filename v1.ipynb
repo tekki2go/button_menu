{
 "cells": [
  {
   "cell_type": "code",
   "execution_count": 2,
   "metadata": {},
   "outputs": [
    {
     "name": "stdout",
     "output_type": "stream",
     "text": [
      "Action: start, Device: Steam, Level: min\n",
      "Waiting for 5s...\n",
      "Action: start, Device: Hotwater, Level: max\n",
      "Waiting for 5s...\n",
      "Action: start, Device: Vacuum, Level: med\n",
      "Waiting for 20m...\n",
      "Stopping all devices.\n"
     ]
    }
   ],
   "source": [
    "import yaml\n",
    "import time\n",
    "\n",
    "# Load the YAML config\n",
    "def load_config(config_file):\n",
    "    with open(config_file, 'r') as file:\n",
    "        return yaml.safe_load(file)\n",
    "\n",
    "# Execute individual actions and delays\n",
    "def execute_action(action, device=None, level=None):\n",
    "    if action == \"stop\" and device == \"All\":\n",
    "        print(f\"Stopping all devices.\")\n",
    "    else:\n",
    "        print(f\"Action: {action}, Device: {device}, Level: {level}\")\n",
    "\n",
    "# Handle time delays\n",
    "def handle_delay(delay):\n",
    "    delay_seconds = convert_time_delay(delay)\n",
    "    if delay_seconds > 0:\n",
    "        print(f\"Waiting for {delay}...\")\n",
    "        time.sleep(delay_seconds)\n",
    "\n",
    "# Convert time delay (s/m) to seconds\n",
    "def convert_time_delay(time_delay):\n",
    "    if 's' in time_delay:\n",
    "        return int(time_delay.replace('s', ''))\n",
    "    elif 'm' in time_delay:\n",
    "        return int(time_delay.replace('m', '')) * 60\n",
    "    else:\n",
    "        return 0\n",
    "\n",
    "# Main function to handle the sequence of actions\n",
    "def handle_sequence(config_file):\n",
    "    config = load_config(config_file)\n",
    "    sequence = config.get('c1', [])  # Use 'c1' as the key for sequence\n",
    "\n",
    "    for step in sequence:\n",
    "        if 'action' in step:\n",
    "            action = step['action']\n",
    "            device = step.get('device')\n",
    "            level = step.get('level')\n",
    "            execute_action(action, device, level)\n",
    "        elif 'delay' in step:\n",
    "            delay = step['delay']\n",
    "            handle_delay(delay)\n",
    "\n",
    "if __name__ == \"__main__\":\n",
    "    handle_sequence('sequences/test.yaml')\n"
   ]
  }
 ],
 "metadata": {
  "kernelspec": {
   "display_name": "ml",
   "language": "python",
   "name": "python3"
  },
  "language_info": {
   "codemirror_mode": {
    "name": "ipython",
    "version": 3
   },
   "file_extension": ".py",
   "mimetype": "text/x-python",
   "name": "python",
   "nbconvert_exporter": "python",
   "pygments_lexer": "ipython3",
   "version": "3.10.14"
  }
 },
 "nbformat": 4,
 "nbformat_minor": 2
}
